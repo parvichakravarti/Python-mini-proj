{
 "cells": [
  {
   "cell_type": "code",
   "execution_count": 10,
   "id": "a7a08205-d885-4487-993d-91aae9717c4e",
   "metadata": {},
   "outputs": [
    {
     "name": "stdout",
     "output_type": "stream",
     "text": [
      "Welcome to Python Restaurant\n",
      "Pizza = Rs 100\n",
      "Burger = Rs 80\n",
      "Pasta = Rs 60\n",
      "Salad = Rs 50\n",
      "Coffee = Rs 70\n"
     ]
    },
    {
     "name": "stdin",
     "output_type": "stream",
     "text": [
      "Enter the name of order you want to order-  Coffee\n"
     ]
    },
    {
     "name": "stdout",
     "output_type": "stream",
     "text": [
      "Your item Coffee has been added to your order\n"
     ]
    },
    {
     "name": "stdin",
     "output_type": "stream",
     "text": [
      "Do not want to order another item? (Yes/No) Yes\n",
      "Enter the name of second item-  Burger\n"
     ]
    },
    {
     "name": "stdout",
     "output_type": "stream",
     "text": [
      "Your item Burger has been added to your order\n",
      "Total amount of items to pay is 150\n"
     ]
    }
   ],
   "source": [
    "menu= { \n",
    "    'Pizza' : 100,\n",
    "    'Burger' : 80,\n",
    "    'Pasta' : 60,\n",
    "    'Salad' : 50,\n",
    "    'Coffee' : 70,\n",
    "}\n",
    "\n",
    "#Greet\n",
    "print(\"Welcome to Python Restaurant\")\n",
    "print(\"Pizza = Rs 100\\nBurger = Rs 80\\nPasta = Rs 60\\nSalad = Rs 50\\nCoffee = Rs 70\")\n",
    "\n",
    "order_total = 0\n",
    "#80 + 70 = 150\n",
    "\n",
    "item_1 = input(\"Enter the name of order you want to order- \")\n",
    "if item_1 in menu:\n",
    "    order_total += menu[item_1]\n",
    "    print(f\"Your item {item_1} has been added to your order\")\n",
    "\n",
    "else:\n",
    "    print(f\"Ordered item {item_1} is not available yet\")\n",
    "\n",
    "another_order = input(\"Do not want to order another item? (Yes/No)\")\n",
    "\n",
    "if another_order == \"Yes\":\n",
    "    item_2 = input(\"Enter the name of second item- \")\n",
    "    if item_2 in menu:\n",
    "        order_total += menu[item_2]\n",
    "        print(f\"Your item {item_2} has been added to your order\")\n",
    "    else:\n",
    "        print(f\"Ordered item {item_1} is not available yet\")\n",
    "\n",
    "print(f\"Total amount of items to pay is {order_total}\")"
   ]
  },
  {
   "cell_type": "raw",
   "id": "cfa91f2b-1b68-4367-95b9-f8e37d9301f8",
   "metadata": {},
   "source": []
  },
  {
   "cell_type": "code",
   "execution_count": 5,
   "id": "49d62ad1-4e81-4876-9954-b4e7b7e4228d",
   "metadata": {},
   "outputs": [
    {
     "name": "stdout",
     "output_type": "stream",
     "text": [
      "No students found/added\n",
      "Student Grade Management System\n",
      "1. Add Student\n",
      "2. Update Student\n",
      "3. Delete Student\n",
      "4. View Student\n",
      "5. Exit\n"
     ]
    },
    {
     "name": "stdin",
     "output_type": "stream",
     "text": [
      "Enter your choice =  1\n",
      "Enter student name =  parvi\n",
      "Enter student grade =  2\n"
     ]
    },
    {
     "name": "stdout",
     "output_type": "stream",
     "text": [
      "Added parvi with a 2\n",
      "Student Grade Management System\n",
      "1. Add Student\n",
      "2. Update Student\n",
      "3. Delete Student\n",
      "4. View Student\n",
      "5. Exit\n"
     ]
    },
    {
     "name": "stdin",
     "output_type": "stream",
     "text": [
      "Enter your choice =  1\n",
      "Enter student name =  mahi\n",
      "Enter student grade =  1\n"
     ]
    },
    {
     "name": "stdout",
     "output_type": "stream",
     "text": [
      "Added mahi with a 1\n",
      "Student Grade Management System\n",
      "1. Add Student\n",
      "2. Update Student\n",
      "3. Delete Student\n",
      "4. View Student\n",
      "5. Exit\n"
     ]
    },
    {
     "name": "stdin",
     "output_type": "stream",
     "text": [
      "Enter your choice =  3\n",
      "Enter student name =  mahi\n"
     ]
    },
    {
     "name": "stdout",
     "output_type": "stream",
     "text": [
      "mahi has been successfuly deleted\n",
      "Student Grade Management System\n",
      "1. Add Student\n",
      "2. Update Student\n",
      "3. Delete Student\n",
      "4. View Student\n",
      "5. Exit\n"
     ]
    },
    {
     "name": "stdin",
     "output_type": "stream",
     "text": [
      "Enter your choice =  4\n"
     ]
    },
    {
     "name": "stdout",
     "output_type": "stream",
     "text": [
      "parvi : 2\n",
      "Student Grade Management System\n",
      "1. Add Student\n",
      "2. Update Student\n",
      "3. Delete Student\n",
      "4. View Student\n",
      "5. Exit\n"
     ]
    },
    {
     "name": "stdin",
     "output_type": "stream",
     "text": [
      "Enter your choice =  5\n"
     ]
    },
    {
     "name": "stdout",
     "output_type": "stream",
     "text": [
      "Closing the program........\n"
     ]
    }
   ],
   "source": [
    "# initializing dictionary\n",
    "student_grades = {}\n",
    "\n",
    "#Add a new student\n",
    "def add_student(name, grade):\n",
    "    student_grades[name] = grade #a=100\n",
    "    print(f\"Added {name} with a {grade}\") #Added a with a grade 100\n",
    "    \n",
    "#update a student\n",
    "def update_student(name, grade):\n",
    "    if name in student_grades:\n",
    "        student_grades[name] = grade #a = 200\n",
    "        print(f\"{name} with marks are updated {grade}\")\n",
    "        \n",
    "    else:\n",
    "        print(f\"{name} not found\")\n",
    "        \n",
    "#delete student\n",
    "def delete_student(name):\n",
    "    if name in student_grades:\n",
    "        del student_grades[name]\n",
    "        print(f\"{name} has been successfuly deleted\")\n",
    "        \n",
    "    else:\n",
    "        print(f\"{name} not found\")\n",
    "        \n",
    "#view all students\n",
    "def display_all_students():\n",
    "    if student_grades:\n",
    "        for name, grade in student_grades.items():\n",
    "            print(f\"{name} : {grade}\")\n",
    "        \n",
    "    else:\n",
    "        print(\"No students found/added\")\n",
    "        \n",
    "display_all_students()\n",
    "\n",
    "def main():\n",
    "    while True:\n",
    "        print(\"Student Grade Management System\")\n",
    "        print(\"1. Add Student\")\n",
    "        print(\"2. Update Student\")\n",
    "        print(\"3. Delete Student\")\n",
    "        print(\"4. View Student\")\n",
    "        print(\"5. Exit\")\n",
    "        \n",
    "        choice = int(input(\"Enter your choice = \"))\n",
    "        if choice == 1:\n",
    "            name = input(\"Enter student name = \")\n",
    "            grade = int(input(\"Enter student grade = \"))\n",
    "            add_student(name, grade)\n",
    "        \n",
    "        elif choice == 2:\n",
    "            name = input(\"Enter student name = \")\n",
    "            grade = int(input(\"Enter student grade = \"))\n",
    "            update_student(name, grade)\n",
    "            \n",
    "        elif choice == 3:\n",
    "            name = input(\"Enter student name = \")\n",
    "            delete_student(name)\n",
    "            \n",
    "        elif choice == 4:\n",
    "            display_all_students()\n",
    "            \n",
    "        elif choice == 5:\n",
    "            print(\"Closing the program........\")\n",
    "            break\n",
    "            \n",
    "        else:\n",
    "            print(\"Invalid Choice\")\n",
    "\n",
    "main()"
   ]
  },
  {
   "cell_type": "code",
   "execution_count": null,
   "id": "2e7468dd-71a0-4443-bee4-921bca173ac7",
   "metadata": {},
   "outputs": [],
   "source": []
  }
 ],
 "metadata": {
  "kernelspec": {
   "display_name": "Python 3 (ipykernel)",
   "language": "python",
   "name": "python3"
  },
  "language_info": {
   "codemirror_mode": {
    "name": "ipython",
    "version": 3
   },
   "file_extension": ".py",
   "mimetype": "text/x-python",
   "name": "python",
   "nbconvert_exporter": "python",
   "pygments_lexer": "ipython3",
   "version": "3.13.2"
  }
 },
 "nbformat": 4,
 "nbformat_minor": 5
}
